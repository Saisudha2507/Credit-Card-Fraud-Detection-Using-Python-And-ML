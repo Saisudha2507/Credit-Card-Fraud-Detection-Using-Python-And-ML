{
 "cells": [
  {
   "cell_type": "markdown",
   "id": "2d91bae0",
   "metadata": {},
   "source": [
    "# Credit Card Fraud Detection - Jupyter Notebook"
   ]
  },
  {
   "cell_type": "code",
   "execution_count": null,
   "id": "b9fb3ff0",
   "metadata": {},
   "outputs": [],
   "source": [
    "import pandas as pd\n",
    "import numpy as np\n",
    "import matplotlib.pyplot as plt\n",
    "import seaborn as sns\n",
    "from sklearn.model_selection import train_test_split\n",
    "from sklearn.preprocessing import StandardScaler\n",
    "from sklearn.decomposition import PCA\n",
    "from sklearn.linear_model import LogisticRegression\n",
    "from sklearn.ensemble import IsolationForest\n",
    "from sklearn.neighbors import LocalOutlierFactor\n",
    "from sklearn.metrics import confusion_matrix, classification_report, accuracy_score\n",
    "\n",
    "# Load dataset\n",
    "df = pd.read_csv('creditcard.csv')\n",
    "\n",
    "# Display basic info and first few rows\n",
    "df.info()\n",
    "df.head()"
   ]
  }
 ],
 "metadata": {},
 "nbformat": 4,
 "nbformat_minor": 5
}
